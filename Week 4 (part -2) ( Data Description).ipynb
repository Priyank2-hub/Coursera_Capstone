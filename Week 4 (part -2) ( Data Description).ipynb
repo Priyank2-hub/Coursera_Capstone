{
 "cells": [
  {
   "cell_type": "markdown",
   "metadata": {},
   "source": [
    "# The Battle of Neighborhood | Data Description"
   ]
  },
  {
   "cell_type": "markdown",
   "metadata": {},
   "source": [
    "# Data:\n"
   ]
  },
  {
   "cell_type": "markdown",
   "metadata": {},
   "source": [
    "----------------------------------------------------------------------------------------------------------------------------\n",
    "\n",
    "- Here we will use the information or the text data scraped form the Wikipedia .\n",
    "\n",
    "- Data is consited of Laltitudes , Longitudes and Zip Codes of the Data.\n",
    "\n",
    "- The Data scraped from wikipedia would be raw, we will convert them into the tabular form of DataFrames , with the help of Pandas\n",
    "\n",
    "----------------------------------------------------------------------------------------------------------------------------"
   ]
  },
  {
   "cell_type": "markdown",
   "metadata": {},
   "source": [
    "# Descritpion "
   ]
  },
  {
   "cell_type": "markdown",
   "metadata": {},
   "source": [
    "### Foursquare API :\n",
    "   \n",
    "   **New york City Data that contains list of Longitudes and latitude:**\n",
    "   \n",
    "   > Data Scourse : (https://cocl.us/new_york_dataset\n",
    "   > Explore various places of New york City.\n",
    "   \n",
    "   \n",
    "   >Data Scourse ; Foursquare API\n",
    "   >Foursquare is a location data provider with information about all manner of venues and events within an area of interest.     Such information includes venue names, locations, menus and even photos. \n",
    "    \n",
    "- Data Retrieved \n",
    "1. Neighborhood\n",
    "2. Neighborhood Latitude\n",
    "3. Neighborhood Longitude\n",
    "4. Venue\n",
    "5. Name of the venue e.g. the name of a store or restaurant\n",
    "6. Venue Latitude\n",
    "7. Venue Longitude\n",
    "8. Venue Category"
   ]
  },
  {
   "cell_type": "markdown",
   "metadata": {},
   "source": [
    "### Link to wikipedia"
   ]
  },
  {
   "cell_type": "markdown",
   "metadata": {},
   "source": [
    "Data Link : **https://en.wikipedia.org/wiki/List_of_postal_codes_of_Canada:_M**"
   ]
  },
  {
   "cell_type": "code",
   "execution_count": null,
   "metadata": {},
   "outputs": [],
   "source": []
  }
 ],
 "metadata": {
  "kernelspec": {
   "display_name": "Python 3",
   "language": "python",
   "name": "python3"
  },
  "language_info": {
   "codemirror_mode": {
    "name": "ipython",
    "version": 3
   },
   "file_extension": ".py",
   "mimetype": "text/x-python",
   "name": "python",
   "nbconvert_exporter": "python",
   "pygments_lexer": "ipython3",
   "version": "3.7.4"
  }
 },
 "nbformat": 4,
 "nbformat_minor": 2
}
