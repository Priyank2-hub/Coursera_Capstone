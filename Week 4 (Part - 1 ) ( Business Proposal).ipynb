{
 "cells": [
  {
   "cell_type": "markdown",
   "metadata": {},
   "source": [
    "# The Battle Of Neighborhoods | Business Proposal"
   ]
  },
  {
   "cell_type": "markdown",
   "metadata": {},
   "source": [
    "#  1) Introduction"
   ]
  },
  {
   "cell_type": "markdown",
   "metadata": {},
   "source": [
    "->The main aim of this Project is to help people in exploring better facilities around their neighborhood. It will help people making smart and efficient decision on selecting great neighborhood out of numbers of other neighborhoods in Scarborough, Toranto.\n",
    "\n",
    "->Lots of people are migrating to various states of Canada and needed lots of research for good housing prices and reputated schools for their children. This project is for those people who are looking for better neighborhoods. For ease of accessing to Cafe, School, Super market, medical shops, grocery shops, mall, theatre, hospital, like minded people, etc.\n",
    "\n",
    "->This Project aim to create an analysis of features for a people migrating to Scarborough to search a best neighborhood as a comparative analysis between neighborhoods. The features include median housing price and better school according to ratings, crime rates of that particular area, road connectivity, weather conditions, good management for emergency, water resources both freash and waste water and excrement conveyed in sewers and recreational facilities.\n",
    "\n",
    "->It will help people to get familiar to the area and neighborhood before moving to a new city, state, country or place for their work or to start a new fresh life."
   ]
  },
  {
   "cell_type": "markdown",
   "metadata": {},
   "source": [
    "# 2) Issues / Problems :"
   ]
  },
  {
   "cell_type": "markdown",
   "metadata": {},
   "source": [
    "**The major purpose of this project, is to suggest a better neighborhood in a new city for the person who are shiffting there. Social presence in society in terms of like minded people. Connectivity to the airport, bus stand, city center, markets and other daily needs things nearby.**\n",
    "\n",
    "1. Sorted list of house in terms of housing prices in a ascending or descending order\n",
    "\n",
    "2. Sorted list of schools in terms of location, fees, rating and reviews\n",
    "\n",
    "- Restaurent Segmentation with respect to Rates and Location.\n",
    "\n",
    "\n",
    "\n"
   ]
  },
  {
   "cell_type": "markdown",
   "metadata": {},
   "source": [
    "# 3) Algorithm Used:"
   ]
  },
  {
   "cell_type": "markdown",
   "metadata": {},
   "source": [
    "**Using Clustering compare similarities between two cities.** \n",
    "\n",
    "** K-MEANS CLUSTERING**\n",
    "\n",
    "> Explore the neighborhoods\n",
    "\n",
    "> Segmenting the data according to the attributes and different properties.\n",
    "\n",
    "> Clustering them in a group of having similar Attributes, which will eventually help the user to find similar neighborhoods.\n",
    "\n",
    "\n"
   ]
  },
  {
   "cell_type": "markdown",
   "metadata": {},
   "source": [
    "# 4) Pacakages Used:"
   ]
  },
  {
   "cell_type": "markdown",
   "metadata": {},
   "source": [
    ">Pandas: For creating and manipulating dataframes.\n",
    "\n",
    ">Folium: Python visualization library would be used to visualize the neighborhoods cluster distribution of using interactive leaflet map.\n",
    "\n",
    ">Scikit Learn: For importing k-means clustering.\n",
    "\n",
    ">JSON: Library to handle JSON files.\n",
    "\n",
    ">XML: To separate data from presentation and XML stores data in plain text format.\n",
    "\n",
    ">Geocoder: To retrieve Location Data.\n",
    "\n",
    ">Beautiful Soup and Requests: To scrap and library to handle http requests.\n",
    "\n",
    ">Matplotlib: Python Plotting Module."
   ]
  },
  {
   "cell_type": "code",
   "execution_count": null,
   "metadata": {},
   "outputs": [],
   "source": []
  }
 ],
 "metadata": {
  "kernelspec": {
   "display_name": "Python 3",
   "language": "python",
   "name": "python3"
  },
  "language_info": {
   "codemirror_mode": {
    "name": "ipython",
    "version": 3
   },
   "file_extension": ".py",
   "mimetype": "text/x-python",
   "name": "python",
   "nbconvert_exporter": "python",
   "pygments_lexer": "ipython3",
   "version": "3.7.4"
  }
 },
 "nbformat": 4,
 "nbformat_minor": 2
}
